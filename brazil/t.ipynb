{
 "cells": [
  {
   "cell_type": "code",
   "execution_count": 10,
   "metadata": {},
   "outputs": [
    {
     "ename": "ModuleNotFoundError",
     "evalue": "No module named 'pandas'",
     "output_type": "error",
     "traceback": [
      "\u001b[0;31m---------------------------------------------------------------------------\u001b[0m\n",
      "\u001b[0;31mModuleNotFoundError\u001b[0m                       Traceback (most recent call last)\n",
      "Cell \u001b[0;32mIn[10], line 1\u001b[0m\n",
      "\u001b[0;32m----> 1\u001b[0m \u001b[38;5;28;01mimport\u001b[39;00m \u001b[38;5;21;01mpandas\u001b[39;00m \u001b[38;5;28;01mas\u001b[39;00m \u001b[38;5;21;01mpd\u001b[39;00m\n",
      "\u001b[1;32m      2\u001b[0m \u001b[38;5;28;01mimport\u001b[39;00m \u001b[38;5;21;01mnumpy\u001b[39;00m \u001b[38;5;28;01mas\u001b[39;00m \u001b[38;5;21;01mnp\u001b[39;00m\n",
      "\u001b[1;32m      3\u001b[0m \u001b[38;5;28;01mfrom\u001b[39;00m \u001b[38;5;21;01mdatetime\u001b[39;00m \u001b[38;5;28;01mimport\u001b[39;00m datetime, timedelta\n",
      "\n",
      "\u001b[0;31mModuleNotFoundError\u001b[0m: No module named 'pandas'"
     ]
    }
   ],
   "source": [
    "import matplotlib.pyplot as plt\n",
    "import pandas as pd\n",
    "import numpy as np\n",
    "from datetime import datetime, timedelta\n",
    "\n",
    "np.random.seed(42)\n",
    "\n",
    "dates = pd.date_range(start=\"2023-01-01\", end=\"2023-12-31\", freq=\"W\")\n",
    "categories = [\n",
    "    \"Pub réseaux sociaux\",\n",
    "    \"Partenariat influenceur\",\n",
    "    \"SEO/SEA\",\n",
    "    \"Organisation d'évènement\",\n",
    "]\n",
    "num_dates = len(dates)\n",
    "\n",
    "website_visitors = np.random.poisson(lam=10000, size=num_dates) + np.random.normal(\n",
    "    0, 50, num_dates\n",
    ").astype(int)\n",
    "\n",
    "conversion_rates = []\n",
    "for category in np.tile(categories, int(num_dates / 4)):\n",
    "    if category == \"Pub réseaux sociaux\":\n",
    "        conversion_rate = np.random.uniform(0.01, 0.03) * 100  # 1% to 3%\n",
    "    elif category == \"Partenariat influenceur\":\n",
    "        conversion_rate = np.random.uniform(0.03, 0.07) * 100  # 3% to 7%\n",
    "    elif category == \"SEO/SEA\":\n",
    "        conversion_rate = np.random.uniform(0.02, 0.05) * 100  # 2% to 5%\n",
    "    elif category == \"Organisation d'évènement\":\n",
    "        conversion_rate = np.random.uniform(0.04, 0.08) * 100  # 4% to 8%\n",
    "    conversion_rates.append(conversion_rate)\n",
    "\n",
    "# Create dataframes\n",
    "time_series_data = {\n",
    "    \"Date\": dates,\n",
    "    \"Website_Visitors\": website_visitors,\n",
    "}\n",
    "\n",
    "category_data = {\n",
    "    \"Category\": np.tile(categories, int(num_dates / 4)),\n",
    "    \"Monthly_Spend\": np.random.normal(loc=20000, scale=10000, size=num_dates - 1),\n",
    "}\n",
    "\n",
    "# Combine dataframes and add conversion rates\n",
    "time_series_df = pd.DataFrame(time_series_data)\n",
    "category_df = pd.DataFrame(category_data)\n",
    "category_df[\"Conversion_Rate\"] = (\n",
    "    conversion_rates  # Add category-specific conversion rates\n",
    ")\n",
    "data = pd.concat([time_series_df, category_df], axis=1).dropna()\n",
    "\n",
    "# Calculate the number of converted visitors\n",
    "data[\"Converted_Visitor\"] = round(\n",
    "    data[\"Website_Visitors\"] * data[\"Conversion_Rate\"] / 100\n",
    ").astype(int)\n",
    "data[\"Website_Visitors\"] = data[\"Website_Visitors\"].astype(int)\n",
    "\n",
    "# Display the first few rows\n",
    "data.head(n=10)\n",
    "data.to_csv(\"sellbetter.csv\", index=False)"
   ]
  }
 ],
 "metadata": {
  "language_info": {
   "name": "python"
  }
 },
 "nbformat": 4,
 "nbformat_minor": 2
}
