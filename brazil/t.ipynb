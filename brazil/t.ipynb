{
 "cells": [
  {
   "cell_type": "code",
   "execution_count": 8,
   "metadata": {},
   "outputs": [
    {
     "ename": "ModuleNotFoundError",
     "evalue": "No module named 'pandas'",
     "output_type": "error",
     "traceback": [
      "\u001b[0;31m---------------------------------------------------------------------------\u001b[0m\n",
      "\u001b[0;31mModuleNotFoundError\u001b[0m                       Traceback (most recent call last)\n",
      "Cell \u001b[0;32mIn[8], line 1\u001b[0m\n",
      "\u001b[0;32m----> 1\u001b[0m \u001b[38;5;28;01mimport\u001b[39;00m \u001b[38;5;21;01mpandas\u001b[39;00m \u001b[38;5;28;01mas\u001b[39;00m \u001b[38;5;21;01mpd\u001b[39;00m\n",
      "\u001b[1;32m      2\u001b[0m \u001b[38;5;28;01mimport\u001b[39;00m \u001b[38;5;21;01mnumpy\u001b[39;00m \u001b[38;5;28;01mas\u001b[39;00m \u001b[38;5;21;01mnp\u001b[39;00m\n",
      "\u001b[1;32m      3\u001b[0m \u001b[38;5;28;01mfrom\u001b[39;00m \u001b[38;5;21;01mdatetime\u001b[39;00m \u001b[38;5;28;01mimport\u001b[39;00m datetime, timedelta\n",
      "\n",
      "\u001b[0;31mModuleNotFoundError\u001b[0m: No module named 'pandas'"
     ]
    }
   ],
   "source": [
    "import pandas as pd\n",
    "import numpy as np\n",
    "from datetime import datetime, timedelta\n",
    "\n",
    "np.random.seed(42)\n",
    "dates = pd.date_range(start=\"2023-01-01\", end=\"2023-12-31\", freq=\"W\")\n",
    "categories = [\n",
    "    \"Réseaux sociaux\",\n",
    "    \"Partenariat influenceur\",\n",
    "    \"SEO/SEA\",\n",
    "    \"Organisation d'évènement\",\n",
    "]\n",
    "num_dates = len(dates)\n",
    "\n",
    "time_series_data = {\n",
    "    \"Date\": dates,\n",
    "    \"Website_Visitors\": np.random.poisson(lam=10000, size=num_dates)\n",
    "    + np.random.normal(0, 50, num_dates).astype(int),\n",
    "    \"Conversion_Rate\": np.random.uniform(0.01, 0.05, num_dates) * 100,\n",
    "}\n",
    "\n",
    "category_data = {\n",
    "    \"Category\": np.tile(categories, int(num_dates / 4)),\n",
    "    \"Monthly_Spend\": np.random.normal(\n",
    "        loc=20000, scale=5000, size=int(num_dates / len(categories))\n",
    "    ),\n",
    "}\n",
    "\n",
    "time_series_df = pd.DataFrame(time_series_data)\n",
    "category_df = pd.DataFrame(category_data)\n",
    "data = pd.concat([time_series_df, category_df], axis=1).dropna()\n",
    "\n",
    "data[\"Date\"] = pd.to_datetime(data[\"Date\"])\n",
    "data[\"Converted_Visitor\"] = round(\n",
    "    data[\"Website_Visitors\"] * data[\"Conversion_Rate\"] / 100\n",
    ").astype(int)\n",
    "data[\"Website_Visitors\"] = data[\"Website_Visitors\"].astype(int)\n",
    "\n",
    "data.head(n=10)"
   ]
  }
 ],
 "metadata": {
  "language_info": {
   "name": "python"
  }
 },
 "nbformat": 4,
 "nbformat_minor": 2
}
